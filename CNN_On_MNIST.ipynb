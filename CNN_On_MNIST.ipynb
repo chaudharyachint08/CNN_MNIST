{
 "cells": [
  {
   "cell_type": "markdown",
   "metadata": {},
   "source": [
    "Note : Some parameters of these architecture have been changed like filter size etc, rest overall architecture remains the same"
   ]
  },
  {
   "cell_type": "markdown",
   "metadata": {},
   "source": [
    "## Lenet -5"
   ]
  },
  {
   "cell_type": "code",
   "execution_count": 0,
   "metadata": {
    "colab": {
     "autoexec": {
      "startup": false,
      "wait_interval": 0
     },
     "base_uri": "https://localhost:8080/",
     "height": 411
    },
    "colab_type": "code",
    "executionInfo": {
     "elapsed": 69173,
     "status": "ok",
     "timestamp": 1530443209628,
     "user": {
      "displayName": "Abhinav Singh",
      "photoUrl": "//lh5.googleusercontent.com/-of3F46rEyGw/AAAAAAAAAAI/AAAAAAAAJ3Y/RnN7VXadeOo/s50-c-k-no/photo.jpg",
      "userId": "112311168201665990924"
     },
     "user_tz": -330
    },
    "id": "VqRtTZz_cYwS",
    "outputId": "43fd0d7a-77f3-4200-e291-fe251b6fc8f9"
   },
   "outputs": [
    {
     "name": "stdout",
     "output_type": "stream",
     "text": [
      "Epoch 1/10\n",
      "60000/60000 [==============================] - 7s 114us/step - loss: 1.8764 - acc: 0.7925\n",
      "Epoch 2/10\n",
      "60000/60000 [==============================] - 6s 108us/step - loss: 0.1608 - acc: 0.9519\n",
      "Epoch 3/10\n",
      "60000/60000 [==============================] - 6s 107us/step - loss: 0.1214 - acc: 0.9627\n",
      "Epoch 4/10\n",
      "39040/60000 [==================>...........] - ETA: 2s - loss: 0.1067 - acc: 0.967660000/60000 [==============================] - 7s 109us/step - loss: 0.1089 - acc: 0.9674\n",
      "Epoch 5/10\n",
      "60000/60000 [==============================] - 7s 109us/step - loss: 0.0962 - acc: 0.9707\n",
      "Epoch 6/10\n",
      "60000/60000 [==============================] - 7s 108us/step - loss: 0.0810 - acc: 0.9753\n",
      "Epoch 7/10\n",
      "53376/60000 [=========================>....] - ETA: 0s - loss: 0.0792 - acc: 0.976160000/60000 [==============================] - 6s 107us/step - loss: 0.0810 - acc: 0.9754\n",
      "Epoch 8/10\n",
      "60000/60000 [==============================] - 6s 108us/step - loss: 0.0755 - acc: 0.9771\n",
      "Epoch 9/10\n",
      "60000/60000 [==============================] - 6s 108us/step - loss: 0.0730 - acc: 0.9780\n",
      "Epoch 10/10\n",
      "56448/60000 [===========================>..] - ETA: 0s - loss: 0.0643 - acc: 0.980960000/60000 [==============================] - 6s 108us/step - loss: 0.0639 - acc: 0.9810\n",
      "Test loss: 0.10675119955915434\n",
      "Test accuracy: 97.24000000000001\n"
     ]
    }
   ],
   "source": [
    "\n",
    "from __future__ import print_function\n",
    "import keras\n",
    "from keras.datasets import mnist\n",
    "from keras.models import Sequential\n",
    "from keras.layers import Dense, Dropout, Flatten\n",
    "from keras.layers import Conv2D, MaxPooling2D\n",
    "from keras import backend as K\n",
    "from keras.models import Model\n",
    "\n",
    "batch_size=128\n",
    "epochs = 10\n",
    "output = 10\n",
    "\n",
    "(x_train, y_train), (x_test, y_test) = mnist.load_data()\n",
    "\n",
    "x_train = x_train.reshape(x_train.shape[0],28,28,1)\n",
    "x_test = x_test.reshape(x_test.shape[0],28,28,1)\n",
    "\n",
    "# convert class vectors to binary class matrices\n",
    "y_train = keras.utils.to_categorical(y_train, 10)\n",
    "y_test = keras.utils.to_categorical(y_test, 10)\n",
    "\n",
    "model = Sequential()\n",
    "                           ##   First Layer   ##\n",
    "model.add(Conv2D(6, kernel_size=(28, 28),activation='relu',input_shape=(28,28,1),padding='same'))\n",
    "model.add(MaxPooling2D(pool_size=(2,2),strides=1, padding='valid'))\n",
    "\n",
    "                           ##   Second Layer  ##\n",
    "model.add(Conv2D(16,kernel_size=(10,10),activation='relu',input_shape=(28,28,1),padding='valid'))\n",
    "model.add(MaxPooling2D(pool_size=(2,2),strides=(2,2),padding='valid'))\n",
    "\n",
    "                           ##     Flatten     ##\n",
    "model.add(Flatten())\n",
    "\n",
    "                        ##     Fully connected    ##\n",
    "model.add(Dense(120, activation='relu'))\n",
    "model.add(Dense(84,activation='relu'))\n",
    "\n",
    "model.add(Dense(10,activation='softmax'))\n",
    "\n",
    "model.compile(loss=keras.losses.categorical_crossentropy,optimizer=keras.optimizers.Adam(),metrics=['accuracy'])\n",
    "\n",
    "model.fit(x_train,y_train,batch_size=batch_size,epochs=epochs,verbose=1)\n",
    "\n",
    "score = model.evaluate(x_test, y_test, verbose=0)\n",
    "print('Test loss:', score[0])\n",
    "print('Test accuracy:', score[1]*100)"
   ]
  },
  {
   "cell_type": "markdown",
   "metadata": {},
   "source": [
    "## ALexNet"
   ]
  },
  {
   "cell_type": "code",
   "execution_count": 2,
   "metadata": {
    "colab": {
     "autoexec": {
      "startup": false,
      "wait_interval": 0
     },
     "base_uri": "https://localhost:8080/",
     "height": 411
    },
    "colab_type": "code",
    "executionInfo": {
     "elapsed": 726544,
     "status": "ok",
     "timestamp": 1530459326894,
     "user": {
      "displayName": "Abhinav Singh",
      "photoUrl": "//lh5.googleusercontent.com/-of3F46rEyGw/AAAAAAAAAAI/AAAAAAAAJ3Y/RnN7VXadeOo/s50-c-k-no/photo.jpg",
      "userId": "112311168201665990924"
     },
     "user_tz": -330
    },
    "id": "1XUVrz6_cAFc",
    "outputId": "d9c1a0d6-4f6b-40ea-ea51-7ab00ac23aed",
    "scrolled": true
   },
   "outputs": [
    {
     "name": "stdout",
     "output_type": "stream",
     "text": [
      "Epoch 1/10\n",
      "60000/60000 [==============================] - 77s 1ms/step - loss: 0.2135 - acc: 0.9436\n",
      "Epoch 2/10\n",
      "36224/60000 [=================>............] - ETA: 28s - loss: 0.1080 - acc: 0.978060000/60000 [==============================] - 72s 1ms/step - loss: 0.0980 - acc: 0.9802\n",
      "Epoch 3/10\n",
      "58496/60000 [============================>.] - ETA: 1s - loss: 0.0753 - acc: 0.985060000/60000 [==============================] - 72s 1ms/step - loss: 0.0752 - acc: 0.9851\n",
      "Epoch 4/10\n",
      "60000/60000 [==============================] - 71s 1ms/step - loss: 0.0851 - acc: 0.9830\n",
      "Epoch 5/10\n",
      " 5504/60000 [=>............................] - ETA: 1:04 - loss: 0.0580 - acc: 0.988060000/60000 [==============================] - 71s 1ms/step - loss: 0.0549 - acc: 0.9890\n",
      "Epoch 6/10\n",
      "44416/60000 [=====================>........] - ETA: 18s - loss: 0.0755 - acc: 0.987260000/60000 [==============================] - 71s 1ms/step - loss: 0.0721 - acc: 0.9872\n",
      "Epoch 7/10\n",
      "60000/60000 [==============================] - 71s 1ms/step - loss: 0.0609 - acc: 0.9892\n",
      "Epoch 8/10\n",
      " 1280/60000 [..............................] - ETA: 1:09 - loss: 0.1317 - acc: 0.977360000/60000 [==============================] - 71s 1ms/step - loss: 0.0702 - acc: 0.9879\n",
      "Epoch 9/10\n",
      "42496/60000 [====================>.........] - ETA: 20s - loss: 0.0564 - acc: 0.990560000/60000 [==============================] - 71s 1ms/step - loss: 0.0538 - acc: 0.9906\n",
      "Epoch 10/10\n",
      "60000/60000 [==============================] - 71s 1ms/step - loss: 0.0531 - acc: 0.9912\n",
      "Test loss: 0.08040312936877074\n",
      "Test accuracy: 99.0\n"
     ]
    }
   ],
   "source": [
    "\n",
    "from __future__ import print_function\n",
    "import keras\n",
    "from keras.datasets import mnist\n",
    "from keras.models import Sequential\n",
    "from keras.layers import Dense, Dropout, Flatten,BatchNormalization\n",
    "from keras.layers import Conv2D, MaxPooling2D\n",
    "from keras import backend as K\n",
    "from keras.models import Model\n",
    "\n",
    "\n",
    "batch_size=128\n",
    "epochs = 10\n",
    "output = 10\n",
    "\n",
    "(x_train, y_train), (x_test, y_test) = mnist.load_data()\n",
    "\n",
    "x_train = x_train.reshape(x_train.shape[0],28,28,1)\n",
    "x_test = x_test.reshape(x_test.shape[0],28,28,1)\n",
    "\n",
    "# convert class vectors to binary class matrices\n",
    "y_train = keras.utils.to_categorical(y_train, 10)\n",
    "y_test = keras.utils.to_categorical(y_test, 10)\n",
    "\n",
    "model = Sequential()\n",
    "\n",
    "model.add(Conv2D(96,kernel_size=(3, 3),activation='relu',input_shape=(28,28,1),strides=(1,1),padding='valid'))\n",
    "\n",
    "model.add(MaxPooling2D(pool_size=(2,2),strides=(1,1),padding='valid'))\n",
    "\n",
    "model.add(BatchNormalization(momentum=0.99,\\\n",
    "                             epsilon=0.001, center=True, scale=True, beta_initializer='zeros',\\\n",
    "                             gamma_initializer='ones', moving_mean_initializer='zeros', \\\n",
    "                             moving_variance_initializer='ones', beta_regularizer=None, \\\n",
    "                             gamma_regularizer=None, beta_constraint=None,\\\n",
    "                             gamma_constraint=None))\n",
    "\n",
    "model.add(Conv2D(256, kernel_size=(11,11),activation='relu',strides=1,padding='valid'))\n",
    "\n",
    "model.add(MaxPooling2D(pool_size=(3,3),strides=2,padding='valid'))\n",
    "\n",
    "model.add(BatchNormalization(momentum=0.99,\\\n",
    "                             epsilon=0.001, center=True, scale=True, beta_initializer='zeros',\\\n",
    "                             gamma_initializer='ones', moving_mean_initializer='zeros', \\\n",
    "                             moving_variance_initializer='ones', beta_regularizer=None, \\\n",
    "                             gamma_regularizer=None, beta_constraint=None,\\\n",
    "                             gamma_constraint=None))\n",
    "\n",
    "model.add(Conv2D(384, kernel_size=(3,3),activation='relu',strides=1,padding='valid'))\n",
    "\n",
    "model.add(Conv2D(384, kernel_size=(3, 3),activation='relu',strides=1,padding='valid'))\n",
    "model.add(Conv2D(256, kernel_size=(3, 3),activation='relu',strides=1,padding='valid'))\n",
    "\n",
    "\n",
    "model.add(Dropout(0.5))\n",
    "\n",
    "model.add(Flatten())\n",
    "\n",
    "model.add(Dense(4096,activation='relu'))\n",
    "\n",
    "model.add(Dropout(0.5))\n",
    "\n",
    "\n",
    "model.add(Dense(4096,activation='relu'))\n",
    "\n",
    "model.add(Dense(10,activation='softmax'))\n",
    "\n",
    "model.compile(loss=keras.losses.categorical_crossentropy,optimizer=keras.optimizers.Adam(),metrics=['accuracy'])\n",
    "\n",
    "model.fit(x_train,y_train,batch_size=batch_size,epochs=epochs,verbose=1)\n",
    "\n",
    "score = model.evaluate(x_test, y_test, verbose=0)\n",
    "print('Test loss:', score[0])\n",
    "print('Test accuracy:', score[1]*100)"
   ]
  },
  {
   "cell_type": "markdown",
   "metadata": {},
   "source": [
    "## Custom architecture"
   ]
  },
  {
   "cell_type": "code",
   "execution_count": 1,
   "metadata": {
    "colab": {
     "autoexec": {
      "startup": false,
      "wait_interval": 0
     },
     "base_uri": "https://localhost:8080/",
     "height": 462
    },
    "colab_type": "code",
    "executionInfo": {
     "elapsed": 1042482,
     "status": "ok",
     "timestamp": 1530502518857,
     "user": {
      "displayName": "Abhinav Singh",
      "photoUrl": "//lh5.googleusercontent.com/-of3F46rEyGw/AAAAAAAAAAI/AAAAAAAAJ3Y/RnN7VXadeOo/s50-c-k-no/photo.jpg",
      "userId": "112311168201665990924"
     },
     "user_tz": -330
    },
    "id": "sFj6U6qOcdHT",
    "outputId": "5d58f3b3-1a1f-47ec-8e37-819e6c4b86f6",
    "scrolled": true
   },
   "outputs": [
    {
     "name": "stderr",
     "output_type": "stream",
     "text": [
      "Using TensorFlow backend.\n"
     ]
    },
    {
     "name": "stdout",
     "output_type": "stream",
     "text": [
      "Downloading data from https://s3.amazonaws.com/img-datasets/mnist.npz\n",
      "11493376/11490434 [==============================] - 2s 0us/step\n",
      "Epoch 1/10\n",
      "52608/60000 [=========================>....] - ETA: 12s - loss: 0.2273 - acc: 0.930060000/60000 [==============================] - 106s 2ms/step - loss: 0.2111 - acc: 0.9347\n",
      "Epoch 2/10\n",
      "60000/60000 [==============================] - 102s 2ms/step - loss: 0.0907 - acc: 0.9724\n",
      "Epoch 3/10\n",
      " 3456/60000 [>.............................] - ETA: 1:35 - loss: 0.0609 - acc: 0.980060000/60000 [==============================] - 102s 2ms/step - loss: 0.0658 - acc: 0.9795\n",
      "Epoch 4/10\n",
      "43136/60000 [====================>.........] - ETA: 28s - loss: 0.0599 - acc: 0.981560000/60000 [==============================] - 102s 2ms/step - loss: 0.0593 - acc: 0.9820\n",
      "Epoch 5/10\n",
      "60000/60000 [==============================] - 102s 2ms/step - loss: 0.0524 - acc: 0.9845\n",
      "Epoch 6/10\n",
      "  640/60000 [..............................] - ETA: 1:40 - loss: 0.0561 - acc: 0.984460000/60000 [==============================] - 102s 2ms/step - loss: 0.0464 - acc: 0.9858\n",
      "Epoch 7/10\n",
      "41856/60000 [===================>..........] - ETA: 30s - loss: 0.0408 - acc: 0.987460000/60000 [==============================] - 101s 2ms/step - loss: 0.0419 - acc: 0.9874\n",
      "Epoch 8/10\n",
      "60000/60000 [==============================] - 101s 2ms/step - loss: 0.0388 - acc: 0.9880\n",
      "Epoch 9/10\n",
      "  256/60000 [..............................] - ETA: 1:41 - loss: 0.0226 - acc: 0.988360000/60000 [==============================] - 101s 2ms/step - loss: 0.0368 - acc: 0.9887\n",
      "Epoch 10/10\n",
      "41344/60000 [===================>..........] - ETA: 31s - loss: 0.0357 - acc: 0.988860000/60000 [==============================] - 101s 2ms/step - loss: 0.0377 - acc: 0.9885\n",
      "Test loss: 0.04230466838810607\n",
      "Test accuracy: 98.74000000000001\n"
     ]
    }
   ],
   "source": [
    "\n",
    "from __future__ import print_function\n",
    "import keras\n",
    "from keras.datasets import mnist\n",
    "from keras.models import Sequential\n",
    "from keras.layers import Dense, Dropout, Flatten,BatchNormalization\n",
    "from keras.layers import Conv2D, MaxPooling2D\n",
    "from keras import backend as K\n",
    "from keras.models import Model\n",
    "\n",
    "\n",
    "batch_size=128\n",
    "epochs = 10\n",
    "output = 10\n",
    "\n",
    "\n",
    "(x_train, y_train), (x_test, y_test) = mnist.load_data()\n",
    "\n",
    "x_train = x_train.reshape(x_train.shape[0],28,28,1)\n",
    "x_test = x_test.reshape(x_test.shape[0],28,28,1)\n",
    "\n",
    "# convert class vectors to binary class matrices\n",
    "y_train = keras.utils.to_categorical(y_train, 10)\n",
    "y_test = keras.utils.to_categorical(y_test, 10)\n",
    "\n",
    "model = Sequential()\n",
    "\n",
    "model.add(Conv2D(10,kernel_size=(28,28),activation='relu',input_shape=(28,28,1),strides=(1,1),padding='same'))\n",
    "\n",
    "\n",
    "model.add(MaxPooling2D(pool_size=(2,2),strides=(1,1),padding='valid'))\n",
    "\n",
    "model.add(BatchNormalization(momentum=0.99,\\\n",
    "                             epsilon=0.001, center=True, scale=True, beta_initializer='zeros',\\\n",
    "                             gamma_initializer='ones', moving_mean_initializer='zeros', \\\n",
    "                             moving_variance_initializer='ones', beta_regularizer=None, \\\n",
    "                             gamma_regularizer=None, beta_constraint=None,\\\n",
    "                             gamma_constraint=None))\n",
    "\n",
    "\n",
    "model.add(Conv2D(128, kernel_size=(11,11),activation='relu',strides=1,padding='same'))\n",
    "model.add(Conv2D(128, kernel_size=(11,11),activation='relu',strides=1,padding='same'))\n",
    "\n",
    "model.add(MaxPooling2D(pool_size=(2,2),strides=2,padding='valid'))\n",
    "\n",
    "model.add(BatchNormalization(momentum=0.99,\\\n",
    "                             epsilon=0.001, center=True, scale=True, beta_initializer='zeros',\\\n",
    "                             gamma_initializer='ones', moving_mean_initializer='zeros', \\\n",
    "                             moving_variance_initializer='ones', beta_regularizer=None, \\\n",
    "                             gamma_regularizer=None, beta_constraint=None,\\\n",
    "                             gamma_constraint=None))\n",
    "\n",
    "\n",
    "\n",
    "model.add(Conv2D(20, kernel_size=(3,3),activation='relu',strides=1,padding='same'))\n",
    "model.add(Conv2D(20, kernel_size=(3,3),activation='relu',strides=1,padding='same'))\n",
    "model.add(Conv2D(20, kernel_size=(3,3),activation='relu',strides=1,padding='same'))\n",
    "\n",
    "model.add(Dropout(0.5))\n",
    "\n",
    "model.add(Flatten())\n",
    "\n",
    "model.add(Dense(4096,activation='relu'))\n",
    "\n",
    "model.add(Dropout(0.5))\n",
    "\n",
    "\n",
    "\n",
    "model.add(Dense(10,activation='softmax'))\n",
    "\n",
    "model.compile(loss=keras.losses.categorical_crossentropy,optimizer=keras.optimizers.Adam(),metrics=['accuracy'])\n",
    "\n",
    "model.fit(x_train,y_train,batch_size=batch_size,epochs=epochs,verbose=1)\n",
    "\n",
    "score = model.evaluate(x_test, y_test, verbose=0)\n",
    "print('Test loss:', score[0])\n",
    "print('Test accuracy:', score[1]*100)"
   ]
  },
  {
   "cell_type": "code",
   "execution_count": 0,
   "metadata": {
    "colab": {
     "autoexec": {
      "startup": false,
      "wait_interval": 0
     }
    },
    "colab_type": "code",
    "collapsed": true,
    "id": "Sad7L1sG4cc1"
   },
   "outputs": [],
   "source": []
  }
 ],
 "metadata": {
  "accelerator": "GPU",
  "colab": {
   "collapsed_sections": [],
   "default_view": {},
   "name": "Copy of Untitled0.ipynb",
   "provenance": [
    {
     "file_id": "1RAQRgqf6vslbEONBTOS6W4dLjt-Y43ey",
     "timestamp": 1530443391941
    }
   ],
   "version": "0.3.2",
   "views": {}
  },
  "kernelspec": {
   "display_name": "Python 3",
   "language": "python",
   "name": "python3"
  },
  "language_info": {
   "codemirror_mode": {
    "name": "ipython",
    "version": 3
   },
   "file_extension": ".py",
   "mimetype": "text/x-python",
   "name": "python",
   "nbconvert_exporter": "python",
   "pygments_lexer": "ipython3",
   "version": "3.6.3"
  }
 },
 "nbformat": 4,
 "nbformat_minor": 1
}
